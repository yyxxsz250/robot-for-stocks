{
 "cells": [
  {
   "cell_type": "code",
   "execution_count": 1,
   "metadata": {},
   "outputs": [
    {
     "name": "stderr",
     "output_type": "stream",
     "text": [
      "/Users/sometimeTK/anaconda3/lib/python3.6/site-packages/fuzzywuzzy/fuzz.py:11: UserWarning: Using slow pure-python SequenceMatcher. Install python-Levenshtein to remove this warning\n",
      "  warnings.warn('Using slow pure-python SequenceMatcher. Install python-Levenshtein to remove this warning')\n"
     ]
    },
    {
     "name": "stdout",
     "output_type": "stream",
     "text": [
      "Fitting 2 folds for each of 6 candidates, totalling 12 fits\n"
     ]
    },
    {
     "name": "stderr",
     "output_type": "stream",
     "text": [
      "[Parallel(n_jobs=1)]: Done  12 out of  12 | elapsed:    0.1s finished\n"
     ]
    }
   ],
   "source": [
    "from iexfinance import get_available_symbols\n",
    "from iexfinance import Stock\n",
    "iu=get_available_symbols(output_format='dict')\n",
    "from fuzzywuzzy import fuzz\n",
    "from fuzzywuzzy import process\n",
    "from iexfinance import get_market_tops\n",
    "from iexfinance import get_stats_intraday\n",
    "shizhi=get_market_tops()\n",
    "import spacy\n",
    "nlp=spacy.load(\"en_core_web_md\")\n",
    "from rasa_nlu.training_data import load_data\n",
    "from rasa_nlu.config import RasaNLUModelConfig\n",
    "from rasa_nlu.model import Trainer\n",
    "from rasa_nlu import config\n",
    "trainer = Trainer(config.load(\"config_spacy.yml\"))\n",
    "data=load_data('studing.json')\n",
    "interpreter = trainer.train(data)"
   ]
  },
  {
   "cell_type": "code",
   "execution_count": 2,
   "metadata": {},
   "outputs": [
    {
     "data": {
      "text/plain": [
       "347.26"
      ]
     },
     "execution_count": 2,
     "metadata": {},
     "output_type": "execute_result"
    }
   ],
   "source": []
  },
  {
   "cell_type": "code",
   "execution_count": 3,
   "metadata": {},
   "outputs": [
    {
     "name": "stdout",
     "output_type": "stream",
     "text": [
      "I 0\n"
     ]
    }
   ],
   "source": [
    "import re\n",
    "gongsihouzhui=re.compile(r\" (inc|corporation|company|fund)\")\n",
    "def quhouzhui(name):\n",
    "    nam=str.lower(name)\n",
    "    x=re.search(gongsihouzhui,nam)\n",
    "    if x is not None:\n",
    "        nam=re.sub(gongsihouzhui,'',nam)\n",
    "    return nam\n",
    "\n",
    "def pipei_name(name):\n",
    "    Fa=0\n",
    "    nam=None\n",
    "    for gupiao in iu:\n",
    "        if fuzz.ratio(str.lower(name), str.lower(gupiao['name']))>=90:\n",
    "            return gupiao['symbol'],0\n",
    "        if fuzz.ratio(name, gupiao['symbol'])==100:\n",
    "            return gupiao['symbol'],0\n",
    "        if fuzz.ratio(str.upper(name), gupiao['symbol'])==100:\n",
    "            return gupiao['symbol'],1\n",
    "        if (fuzz.ratio(quhouzhui(name), quhouzhui(gupiao['name']))>=70)&(fuzz.ratio(quhouzhui(name), quhouzhui(gupiao['name']))>Fa):\n",
    "            #print(fuzz.ratio(quhouzhui(name), quhouzhui(gupiao['name'])))\n",
    "            Fa=fuzz.ratio(quhouzhui(name), quhouzhui(gupiao['name']))\n",
    "            nam=gupiao['symbol']\n",
    "                      #return gupiao['name']       \n",
    "    return nam,1\n",
    "def find_name(message):\n",
    "    a,b=pipei_name(message)\n",
    "    if a!=None:\n",
    "        return a,b\n",
    "    doc=nlp(message)\n",
    "    for token in doc:\n",
    "        if (token.tag_=='NNP')|((str(token)==(str.upper(str(token))))&(token.pos_!=\"PRON\")):\n",
    "            a,b=pipei_name(str(token))\n",
    "            if a!=None:\n",
    "                return a,b\n",
    "    return None,1\n",
    "#        DOC=nlp(token)\n",
    "#        for TOKEN in DOC:\n",
    "#            print(TOKEN.tag_)\n",
    "\n",
    "a,b=find_name( 'I')\n",
    "print(a,b)\n",
    "\n",
    "def find_info(message):\n",
    "    info=[]\n",
    "    if re.search(re.compile(r\"(volume|bidsize)\"),message):\n",
    "        info.append('lastSaleSize')\n",
    "    if re.search(re.compile(r\"(price|value|rate)\"),message):\n",
    "        info.append('lastSalePrice')\n",
    "    if re.search(re.compile(r\"(share|percent)\"),message):\n",
    "        info.append('marketPercent')\n",
    "    return info"
   ]
  },
  {
   "cell_type": "code",
   "execution_count": 4,
   "metadata": {},
   "outputs": [],
   "source": [
    "INIT=0\n",
    "COMFIRM_NAME=1\n",
    "ASKING_INFO=2\n",
    "\n",
    "policy = {\n",
    "    (INIT,\"greet\"): (INIT, \"Hello!How can I help you?\"),\n",
    "    (INIT,\"chatting\"): (INIT, \"oh, that's so funny.Would you ask me something about the market?\"),    \n",
    "    (INIT,\"affirm\"): (INIT, \"what are you affirm for?Why don't you ask me the price of it's stock?\"),\n",
    "    (INIT,\"deny\"): (INIT, \"what are you deny for?Why don't you ask me the price of it's stock?\"),\n",
    "    (COMFIRM_NAME,\"chatting\"):(COMFIRM_NAME,\"I'm so pressure to hear that from you, but you haven't answer me yet! Did I got your heart?\"),\n",
    "    (COMFIRM_NAME,\"greet\"):(COMFIRM_NAME,\"you're welcome. Anyway, am i right?\"),\n",
    "    (COMFIRM_NAME,\"asking\"):(COMFIRM_NAME,\"tell me if i'm right first!Or i will come into chaos \"),\n",
    "    (ASKING_INFO,\"deny\"):(INIT,\"'m so sorry to here that. Maybe we can start all over again.\"),\n",
    "#    (ASKING_INFO,\"deny\"):(INIT,\"I'm so sorry to here that. Maybe we can start all over again.\")，\n",
    "    (ASKING_INFO,\"chatting\"):(ASKING_INFO,\"oh, that's so funny. So would yoou like to continue our searching on that stock? I was just enjoying our conversation\"),\n",
    "     (ASKING_INFO,\"greet\"): (ASKING_INFO, \"Hello!How can I help you?\"),\n",
    "}\n",
    "\n"
   ]
  },
  {
   "cell_type": "code",
   "execution_count": 5,
   "metadata": {},
   "outputs": [],
   "source": [
    "def send_message(policy,state,infos, message):\n",
    "    print(\"USER : {}\".format(message))\n",
    "    new_state, new_infos, response = respond(policy,state,infos, message)\n",
    "    print(\"BOT : {}\".format(response))\n",
    "    return new_state,new_infos,response"
   ]
  },
  {
   "cell_type": "code",
   "execution_count": 6,
   "metadata": {},
   "outputs": [
    {
     "name": "stdout",
     "output_type": "stream",
     "text": [
      "USER : 奥\n",
      "BOT : Sorry, can you tell me which stock do you want to inquire first？\n"
     ]
    },
    {
     "data": {
      "text/plain": [
       "(0, None, 'Sorry, can you tell me which stock do you want to inquire first？')"
      ]
     },
     "execution_count": 6,
     "metadata": {},
     "output_type": "execute_result"
    }
   ],
   "source": [
    "INIT=0\n",
    "COMFIRM_NAME=1\n",
    "ASKING_INFO=2\n",
    "infos=None\n",
    "message=\"I want volumes from tesila\"\n",
    "response_infos=[\n",
    "    \"sorry, I can't find infomations you need on internet now, what an unlucky matter\",\n",
    "    \"The {1} of {0} is {2}.\",\n",
    "    \"The {1} of {0} is {2},and the {3} is {4}.\",\n",
    "    \"The {1} of {0} is {2}, the {5} is {6} and the {3} is {4}.\"\n",
    "]\n",
    "def respond(policy,state, name, message):\n",
    "    intent = interpreter.parse(message)['intent']['name']\n",
    "    if state ==INIT:\n",
    "        if  (intent==\"asking\")|(intent==\"affirm\"):\n",
    "            nam,x=find_name(message)\n",
    "            if nam!=None:\n",
    "                name=nam\n",
    "                if x==1:\n",
    "                    response=\"are you talking about {}?\".format(name)\n",
    "                    return COMFIRM_NAME,name,response\n",
    "                info=find_info(message)\n",
    "                if len(info)==0:\n",
    "                    response=\"which data do you want to know about {}?\".format(name)\n",
    "                    return ASKING_INFO,name,response\n",
    "                shizhi=get_market_tops()\n",
    "                lisy=[]\n",
    "                lisy.append(name)\n",
    "                for gupiao in shizhi:\n",
    "                    if gupiao['name']==name:\n",
    "                        for item in info:\n",
    "                            lisy.append(item)\n",
    "                            lisy.append(gupiao[item])\n",
    "                        break\n",
    "                n=int((len(lisy)-1)/2)\n",
    "                response=response_infos[n].format(*lisy)\n",
    "                return INIT, None, response\n",
    "            response=\"Sorry, can you tell me which stock do you want to inquire first？\"\n",
    "            return INIT, None, response\n",
    "        new_state,response=policy[state,intent]\n",
    "        return new_state, None ,response\n",
    "    if state ==COMFIRM_NAME:\n",
    "        if intent==\"affirm\":\n",
    "            info=find_info(message)\n",
    "            if len(info)==0:\n",
    "                response=\"which data do you want to know about {}?\".format(name)\n",
    "                return ASKING_INFO,name,response\n",
    "            shizhi=get_market_tops()\n",
    "            lisy=[]\n",
    "            lisy.append(name)\n",
    "            for gupiao in shizhi:\n",
    "                if gupiao['name']==name:\n",
    "                    for item in info:\n",
    "                        lisy.append(item)\n",
    "                        lisy.append(gupiao[item])\n",
    "                    break\n",
    "            n=int((len(lisy)-1)/2)\n",
    "            response=response_infos[n].format(*lisy)\n",
    "            return INIT, None, response\n",
    "        if intent==\"deny\":\n",
    "            nam,x=find_name(message)\n",
    "            if nam!=None:\n",
    "                name=nam\n",
    "                if x==1:\n",
    "                    if nam==name:\n",
    "                        response=\"sorry, I still just read out {}, can you say it again?Just the name of the stock, not other words, which would rise my acurrancy\".format(name)\n",
    "                        return INIT, name, response\n",
    "                    response=\"So are you talking about {}?\".format(name)\n",
    "                    return COMFIRM_NAME,name,response\n",
    "                info=find_info(message)\n",
    "                if len(info)==0:\n",
    "                    response=\"which data do you want to know about {}?\".format(name)\n",
    "                    return ASKING_INFO,name,response\n",
    "                shizhi=get_market_tops()\n",
    "                lisy=[]\n",
    "                lisy.append(name)\n",
    "                for gupiao in shizhi:\n",
    "                    if gupiao['name']==name:\n",
    "                        for item in info:\n",
    "                            lisy.append(item)\n",
    "                            lisy.append(gupiao[item])\n",
    "                        break\n",
    "                n=int((len(lisy)-1)/2)\n",
    "                response=response_infos[n].format(*lisy)\n",
    "                return INIT, None, response\n",
    "            response=\"Sorry to misunderstand your words, can you tell me which stock do you want to inquire again？Just the name of the stock and do not say other words may rise my acurrancy\"\n",
    "            return INIT, None, response\n",
    "        new_state,response=policy[state,intent]\n",
    "        return new_state, name ,response\n",
    "    if state==ASKING_INFO:\n",
    "        if (intent==\"asking\")|(intent==\"affirm\"):\n",
    "            info=find_info(message)\n",
    "            if len(info)==0:\n",
    "                response=\"I still fail to find out which data you wanted to know about {}, can you tell it clearlier?the price, bidsize or market share?\".format(name)\n",
    "                return ASKING_INFO,name,response\n",
    "            shizhi=get_market_tops()\n",
    "            lisy=[]\n",
    "            lisy.append(name)\n",
    "            for gupiao in shizhi:\n",
    "                if gupiao['name']==name:\n",
    "                    for item in info:\n",
    "                        lisy.append(item)\n",
    "                        lisy.append(gupiao[item])\n",
    "                    break\n",
    "            n=int((len(lisy)-1)/2)\n",
    "            response=response_infos[n].format(*lisy)\n",
    "            return INIT, None, response\n",
    "        if intent==\"deny\":\n",
    "            nam,x=find_name(message)\n",
    "            if nam!=None:\n",
    "                if x==1:\n",
    "                    if nam==name:\n",
    "                        response=\"sorry, I still just read out {}, can you say it again?Just the name of the stock, not other words, which would rise my acurrancy\".format(name)\n",
    "                        return INIT, name, response\n",
    "                    response=\"So are you talking about {}?\".format(name)\n",
    "                    return COMFIRM_NAME,name,response\n",
    "                name=nam\n",
    "                info=find_info(message)\n",
    "                if len(info)==0:\n",
    "                    response=\"which data do you want to know about {}?\".format(name)\n",
    "                    return ASKING_INFO,name,response\n",
    "                shizhi=get_market_tops()\n",
    "                lisy=[]\n",
    "                lisy.append(name)\n",
    "                for gupiao in shizhi:\n",
    "                    if gupiao['name']==name:\n",
    "                        for item in info:\n",
    "                            lisy.append(item)\n",
    "                            lisy.append(gupiao[item])\n",
    "                        break\n",
    "                n=int((len(lisy)-1)/2)\n",
    "                response=response_infos[n].format(*lisy)+\"would you like to search other infomations about {}?\".format(name)\n",
    "                return ASKING_INFO, name, response\n",
    "            response=\"good bye\"\n",
    "            return INIT, None, response\n",
    "        new_state,response=policy[state,intent]\n",
    "        return new_state, name ,response\n",
    "            \n",
    "                            \n",
    "                \n",
    "send_message(policy,INIT,infos,\"奥\")\n",
    "                \n",
    "                #new_state,new_intent,response=policy(state, intent)"
   ]
  },
  {
   "cell_type": "code",
   "execution_count": 7,
   "metadata": {},
   "outputs": [
    {
     "name": "stdout",
     "output_type": "stream",
     "text": [
      "USER : yes,i want to know the values of it\n",
      "BOT : Sorry, can you tell me which stock do you want to inquire first？\n",
      "USER : tesila\n",
      "BOT : are you talking about TSLA?\n",
      "USER : thank you\n",
      "BOT : which data do you want to know about TSLA?\n",
      "USER : i want to know price of TSLA today \n",
      "BOT : sorry, I can't find infomations you need on internet now, what an unlucky matter\n"
     ]
    },
    {
     "data": {
      "text/plain": [
       "0"
      ]
     },
     "execution_count": 7,
     "metadata": {},
     "output_type": "execute_result"
    }
   ],
   "source": [
    "\n",
    "messages={\n",
    "    \"tesila\",\n",
    "    \"yes,i want to know the values of it\",\n",
    "    \"thank you\",\n",
    "    \"i want to know price of TSLA today \"\n",
    "}\n",
    "def shiyan(policy,messages):\n",
    "    INIT=0\n",
    "    COMFIRM_NAME=1\n",
    "    ASKING_INFO=2\n",
    "    state=INIT\n",
    "    name=None\n",
    "    for message in messages:\n",
    "        #print (message)\n",
    "        new_state, new_name,response=send_message(policy,state,name, message)\n",
    "        name=new_name\n",
    "        state=new_state\n",
    "    return 0\n",
    "shiyan(policy,messages)"
   ]
  },
  {
   "cell_type": "code",
   "execution_count": 13,
   "metadata": {},
   "outputs": [
    {
     "name": "stdout",
     "output_type": "stream",
     "text": [
      "{'intent': {'name': 'asking', 'confidence': 0.7145695240652125}, 'entities': [], 'intent_ranking': [{'name': 'asking', 'confidence': 0.7145695240652125}, {'name': 'affirm', 'confidence': 0.11912466150219798}, {'name': 'chatting', 'confidence': 0.08192345097590938}, {'name': 'deny', 'confidence': 0.0527889908882934}, {'name': 'greet', 'confidence': 0.03159337256838674}], 'text': 'search tesila for me'}\n"
     ]
    }
   ],
   "source": [
    "message='search tesila for me'\n",
    "intent = interpreter.parse(message)\n",
    "print(intent)"
   ]
  },
  {
   "cell_type": "code",
   "execution_count": null,
   "metadata": {},
   "outputs": [
    {
     "name": "stderr",
     "output_type": "stream",
     "text": [
      "Getting uuid of QR code.\n",
      "Downloading QR code.\n",
      "Please scan the QR code to log in.\n",
      "Log in time out, reloading QR code.\n",
      "Getting uuid of QR code.\n",
      "Downloading QR code.\n",
      "Please scan the QR code to log in.\n",
      "Log in time out, reloading QR code.\n",
      "Getting uuid of QR code.\n",
      "Downloading QR code.\n",
      "Please scan the QR code to log in.\n",
      "Log in time out, reloading QR code.\n",
      "Getting uuid of QR code.\n",
      "Downloading QR code.\n",
      "Please scan the QR code to log in.\n",
      "Log in time out, reloading QR code.\n",
      "Getting uuid of QR code.\n",
      "Downloading QR code.\n",
      "Please scan the QR code to log in.\n",
      "LOG OUT!\n"
     ]
    }
   ],
   "source": [
    "from wxpy import *\n",
    "bot=Bot()"
   ]
  },
  {
   "cell_type": "code",
   "execution_count": 9,
   "metadata": {},
   "outputs": [
    {
     "name": "stdout",
     "output_type": "stream",
     "text": [
      "<Friend: xjp>\n"
     ]
    }
   ],
   "source": [
    "user = bot.friends().search('xjp')[0]\n",
    "print(user)"
   ]
  },
  {
   "cell_type": "code",
   "execution_count": 11,
   "metadata": {},
   "outputs": [],
   "source": []
  },
  {
   "cell_type": "code",
   "execution_count": 12,
   "metadata": {},
   "outputs": [
    {
     "name": "stdout",
     "output_type": "stream",
     "text": [
      "USER : hh\n",
      "BOT : Sorry, can you tell me which stock do you want to inquire first？\n",
      "USER : search tesila for me\n",
      "BOT : Sorry, can you tell me which stock do you want to inquire first？\n"
     ]
    }
   ],
   "source": [
    "INIT=0\n",
    "COMFIRM_NAME=1\n",
    "ASKING_INFO=2\n",
    "state=INIT\n",
    "name=None\n",
    "@bot.register(user)\n",
    "def reply_my_friend(msg):\n",
    "    global state\n",
    "    global name\n",
    "    new_state, new_infos, response = send_message(policy,state,name,msg.text)\n",
    "    state=new_state\n",
    "    name=new_infos\n",
    "    return response"
   ]
  },
  {
   "cell_type": "code",
   "execution_count": null,
   "metadata": {},
   "outputs": [],
   "source": []
  },
  {
   "cell_type": "code",
   "execution_count": 134,
   "metadata": {},
   "outputs": [
    {
     "data": {
      "text/plain": [
       "↪ 腰比兽 : caonima (Text)"
      ]
     },
     "execution_count": 134,
     "metadata": {},
     "output_type": "execute_result"
    },
    {
     "name": "stdout",
     "output_type": "stream",
     "text": [
      "101中校友讲座 › 宋会强 : 中科院士诠释一些传说的真相 (Text)\n",
      "101中校友讲座 › 宋会强 : (Video)\n"
     ]
    }
   ],
   "source": []
  },
  {
   "cell_type": "code",
   "execution_count": 168,
   "metadata": {},
   "outputs": [
    {
     "name": "stdout",
     "output_type": "stream",
     "text": [
      "不嘛！\n",
      "None\n",
      "卧槽\n",
      "我是\n",
      "None\n",
      "雨课堂 : 《2018年-移动通信-大四》（下午） 的学习报告 (Sharing)\n"
     ]
    },
    {
     "name": "stderr",
     "output_type": "stream",
     "text": [
      "Traceback (most recent call last):\n",
      "  File \"/Users/sometimeTK/anaconda3/lib/python3.6/site-packages/urllib3/connection.py\", line 141, in _new_conn\n",
      "    (self.host, self.port), self.timeout, **extra_kw)\n",
      "  File \"/Users/sometimeTK/anaconda3/lib/python3.6/site-packages/urllib3/util/connection.py\", line 60, in create_connection\n",
      "    for res in socket.getaddrinfo(host, port, family, socket.SOCK_STREAM):\n",
      "  File \"/Users/sometimeTK/anaconda3/lib/python3.6/socket.py\", line 745, in getaddrinfo\n",
      "    for res in _socket.getaddrinfo(host, port, family, type, proto, flags):\n",
      "socket.gaierror: [Errno 8] nodename nor servname provided, or not known\n",
      "\n",
      "During handling of the above exception, another exception occurred:\n",
      "\n",
      "Traceback (most recent call last):\n",
      "  File \"/Users/sometimeTK/anaconda3/lib/python3.6/site-packages/urllib3/connectionpool.py\", line 601, in urlopen\n",
      "    chunked=chunked)\n",
      "  File \"/Users/sometimeTK/anaconda3/lib/python3.6/site-packages/urllib3/connectionpool.py\", line 346, in _make_request\n",
      "    self._validate_conn(conn)\n",
      "  File \"/Users/sometimeTK/anaconda3/lib/python3.6/site-packages/urllib3/connectionpool.py\", line 850, in _validate_conn\n",
      "    conn.connect()\n",
      "  File \"/Users/sometimeTK/anaconda3/lib/python3.6/site-packages/urllib3/connection.py\", line 284, in connect\n",
      "    conn = self._new_conn()\n",
      "  File \"/Users/sometimeTK/anaconda3/lib/python3.6/site-packages/urllib3/connection.py\", line 150, in _new_conn\n",
      "    self, \"Failed to establish a new connection: %s\" % e)\n",
      "urllib3.exceptions.NewConnectionError: <urllib3.connection.VerifiedHTTPSConnection object at 0x14b32cda0>: Failed to establish a new connection: [Errno 8] nodename nor servname provided, or not known\n",
      "\n",
      "During handling of the above exception, another exception occurred:\n",
      "\n",
      "Traceback (most recent call last):\n",
      "  File \"/Users/sometimeTK/anaconda3/lib/python3.6/site-packages/requests/adapters.py\", line 440, in send\n",
      "    timeout=timeout\n",
      "  File \"/Users/sometimeTK/anaconda3/lib/python3.6/site-packages/urllib3/connectionpool.py\", line 668, in urlopen\n",
      "    **response_kw)\n",
      "  File \"/Users/sometimeTK/anaconda3/lib/python3.6/site-packages/urllib3/connectionpool.py\", line 668, in urlopen\n",
      "    **response_kw)\n",
      "  File \"/Users/sometimeTK/anaconda3/lib/python3.6/site-packages/urllib3/connectionpool.py\", line 668, in urlopen\n",
      "    **response_kw)\n",
      "  [Previous line repeated 26 more times]\n",
      "  File \"/Users/sometimeTK/anaconda3/lib/python3.6/site-packages/urllib3/connectionpool.py\", line 639, in urlopen\n",
      "    _stacktrace=sys.exc_info()[2])\n",
      "  File \"/Users/sometimeTK/anaconda3/lib/python3.6/site-packages/urllib3/util/retry.py\", line 388, in increment\n",
      "    raise MaxRetryError(_pool, url, error or ResponseError(cause))\n",
      "urllib3.exceptions.MaxRetryError: HTTPSConnectionPool(host='webpush.wx2.qq.com', port=443): Max retries exceeded with url: /cgi-bin/mmwebwx-bin/synccheck?r=1546414182689&skey=%40crypt_fa07dab3_1c335f8c08413691ce599aa28aa7a5fd&sid=GsiA5xYIsl7iKNql&uin=2343107138&deviceid=e792712923911101&synckey=1_674828276%7C2_674828797%7C3_674828798%7C11_674828181%7C201_1546414030%7C1000_1546405922%7C1001_1546405995&_=1546406930251 (Caused by NewConnectionError('<urllib3.connection.VerifiedHTTPSConnection object at 0x14b32cda0>: Failed to establish a new connection: [Errno 8] nodename nor servname provided, or not known',))\n",
      "\n",
      "During handling of the above exception, another exception occurred:\n",
      "\n",
      "Traceback (most recent call last):\n",
      "  File \"/Users/sometimeTK/anaconda3/lib/python3.6/site-packages/itchat/components/login.py\", line 231, in maintain_loop\n",
      "    i = sync_check(self)\n",
      "  File \"/Users/sometimeTK/anaconda3/lib/python3.6/site-packages/itchat/components/login.py\", line 283, in sync_check\n",
      "    r = self.s.get(url, params=params, headers=headers)\n",
      "  File \"/Users/sometimeTK/anaconda3/lib/python3.6/site-packages/requests/sessions.py\", line 521, in get\n",
      "    return self.request('GET', url, **kwargs)\n",
      "  File \"/Users/sometimeTK/anaconda3/lib/python3.6/site-packages/wxpy/utils/misc.py\", line 351, in customized_request\n",
      "    return requests.Session.request(session, method, url, **kwargs)\n",
      "  File \"/Users/sometimeTK/anaconda3/lib/python3.6/site-packages/requests/sessions.py\", line 508, in request\n",
      "    resp = self.send(prep, **send_kwargs)\n",
      "  File \"/Users/sometimeTK/anaconda3/lib/python3.6/site-packages/requests/sessions.py\", line 618, in send\n",
      "    r = adapter.send(request, **kwargs)\n",
      "  File \"/Users/sometimeTK/anaconda3/lib/python3.6/site-packages/requests/adapters.py\", line 508, in send\n",
      "    raise ConnectionError(e, request=request)\n",
      "requests.exceptions.ConnectionError: HTTPSConnectionPool(host='webpush.wx2.qq.com', port=443): Max retries exceeded with url: /cgi-bin/mmwebwx-bin/synccheck?r=1546414182689&skey=%40crypt_fa07dab3_1c335f8c08413691ce599aa28aa7a5fd&sid=GsiA5xYIsl7iKNql&uin=2343107138&deviceid=e792712923911101&synckey=1_674828276%7C2_674828797%7C3_674828798%7C11_674828181%7C201_1546414030%7C1000_1546405922%7C1001_1546405995&_=1546406930251 (Caused by NewConnectionError('<urllib3.connection.VerifiedHTTPSConnection object at 0x14b32cda0>: Failed to establish a new connection: [Errno 8] nodename nor servname provided, or not known',))\n",
      "\n",
      "Traceback (most recent call last):\n",
      "  File \"/Users/sometimeTK/anaconda3/lib/python3.6/site-packages/urllib3/connection.py\", line 141, in _new_conn\n",
      "    (self.host, self.port), self.timeout, **extra_kw)\n",
      "  File \"/Users/sometimeTK/anaconda3/lib/python3.6/site-packages/urllib3/util/connection.py\", line 60, in create_connection\n",
      "    for res in socket.getaddrinfo(host, port, family, socket.SOCK_STREAM):\n",
      "  File \"/Users/sometimeTK/anaconda3/lib/python3.6/socket.py\", line 745, in getaddrinfo\n",
      "    for res in _socket.getaddrinfo(host, port, family, type, proto, flags):\n",
      "socket.gaierror: [Errno 8] nodename nor servname provided, or not known\n",
      "\n",
      "During handling of the above exception, another exception occurred:\n",
      "\n",
      "Traceback (most recent call last):\n",
      "  File \"/Users/sometimeTK/anaconda3/lib/python3.6/site-packages/urllib3/connectionpool.py\", line 601, in urlopen\n",
      "    chunked=chunked)\n",
      "  File \"/Users/sometimeTK/anaconda3/lib/python3.6/site-packages/urllib3/connectionpool.py\", line 346, in _make_request\n",
      "    self._validate_conn(conn)\n",
      "  File \"/Users/sometimeTK/anaconda3/lib/python3.6/site-packages/urllib3/connectionpool.py\", line 850, in _validate_conn\n",
      "    conn.connect()\n",
      "  File \"/Users/sometimeTK/anaconda3/lib/python3.6/site-packages/urllib3/connection.py\", line 284, in connect\n",
      "    conn = self._new_conn()\n",
      "  File \"/Users/sometimeTK/anaconda3/lib/python3.6/site-packages/urllib3/connection.py\", line 150, in _new_conn\n",
      "    self, \"Failed to establish a new connection: %s\" % e)\n",
      "urllib3.exceptions.NewConnectionError: <urllib3.connection.VerifiedHTTPSConnection object at 0x12ec462e8>: Failed to establish a new connection: [Errno 8] nodename nor servname provided, or not known\n",
      "\n",
      "During handling of the above exception, another exception occurred:\n",
      "\n",
      "Traceback (most recent call last):\n",
      "  File \"/Users/sometimeTK/anaconda3/lib/python3.6/site-packages/requests/adapters.py\", line 440, in send\n",
      "    timeout=timeout\n",
      "  File \"/Users/sometimeTK/anaconda3/lib/python3.6/site-packages/urllib3/connectionpool.py\", line 668, in urlopen\n",
      "    **response_kw)\n",
      "  File \"/Users/sometimeTK/anaconda3/lib/python3.6/site-packages/urllib3/connectionpool.py\", line 668, in urlopen\n",
      "    **response_kw)\n",
      "  File \"/Users/sometimeTK/anaconda3/lib/python3.6/site-packages/urllib3/connectionpool.py\", line 668, in urlopen\n",
      "    **response_kw)\n",
      "  [Previous line repeated 26 more times]\n",
      "  File \"/Users/sometimeTK/anaconda3/lib/python3.6/site-packages/urllib3/connectionpool.py\", line 639, in urlopen\n",
      "    _stacktrace=sys.exc_info()[2])\n",
      "  File \"/Users/sometimeTK/anaconda3/lib/python3.6/site-packages/urllib3/util/retry.py\", line 388, in increment\n",
      "    raise MaxRetryError(_pool, url, error or ResponseError(cause))\n",
      "urllib3.exceptions.MaxRetryError: HTTPSConnectionPool(host='webpush.wx2.qq.com', port=443): Max retries exceeded with url: /cgi-bin/mmwebwx-bin/synccheck?r=1546424258219&skey=%40crypt_fa07dab3_1c335f8c08413691ce599aa28aa7a5fd&sid=GsiA5xYIsl7iKNql&uin=2343107138&deviceid=e383816621873896&synckey=1_674828276%7C2_674828797%7C3_674828798%7C11_674828181%7C201_1546414030%7C1000_1546405922%7C1001_1546405995&_=1546406930252 (Caused by NewConnectionError('<urllib3.connection.VerifiedHTTPSConnection object at 0x12ec462e8>: Failed to establish a new connection: [Errno 8] nodename nor servname provided, or not known',))\n",
      "\n",
      "During handling of the above exception, another exception occurred:\n",
      "\n",
      "Traceback (most recent call last):\n",
      "  File \"/Users/sometimeTK/anaconda3/lib/python3.6/site-packages/itchat/components/login.py\", line 231, in maintain_loop\n",
      "    i = sync_check(self)\n",
      "  File \"/Users/sometimeTK/anaconda3/lib/python3.6/site-packages/itchat/components/login.py\", line 283, in sync_check\n",
      "    r = self.s.get(url, params=params, headers=headers)\n",
      "  File \"/Users/sometimeTK/anaconda3/lib/python3.6/site-packages/requests/sessions.py\", line 521, in get\n",
      "    return self.request('GET', url, **kwargs)\n",
      "  File \"/Users/sometimeTK/anaconda3/lib/python3.6/site-packages/wxpy/utils/misc.py\", line 351, in customized_request\n",
      "    return requests.Session.request(session, method, url, **kwargs)\n",
      "  File \"/Users/sometimeTK/anaconda3/lib/python3.6/site-packages/requests/sessions.py\", line 508, in request\n",
      "    resp = self.send(prep, **send_kwargs)\n",
      "  File \"/Users/sometimeTK/anaconda3/lib/python3.6/site-packages/requests/sessions.py\", line 618, in send\n",
      "    r = adapter.send(request, **kwargs)\n",
      "  File \"/Users/sometimeTK/anaconda3/lib/python3.6/site-packages/requests/adapters.py\", line 508, in send\n",
      "    raise ConnectionError(e, request=request)\n",
      "requests.exceptions.ConnectionError: HTTPSConnectionPool(host='webpush.wx2.qq.com', port=443): Max retries exceeded with url: /cgi-bin/mmwebwx-bin/synccheck?r=1546424258219&skey=%40crypt_fa07dab3_1c335f8c08413691ce599aa28aa7a5fd&sid=GsiA5xYIsl7iKNql&uin=2343107138&deviceid=e383816621873896&synckey=1_674828276%7C2_674828797%7C3_674828798%7C11_674828181%7C201_1546414030%7C1000_1546405922%7C1001_1546405995&_=1546406930252 (Caused by NewConnectionError('<urllib3.connection.VerifiedHTTPSConnection object at 0x12ec462e8>: Failed to establish a new connection: [Errno 8] nodename nor servname provided, or not known',))\n",
      "\n"
     ]
    },
    {
     "name": "stderr",
     "output_type": "stream",
     "text": [
      "LOG OUT!\n"
     ]
    }
   ],
   "source": []
  },
  {
   "cell_type": "code",
   "execution_count": null,
   "metadata": {},
   "outputs": [],
   "source": []
  }
 ],
 "metadata": {
  "kernelspec": {
   "display_name": "Python 3",
   "language": "python",
   "name": "python3"
  },
  "language_info": {
   "codemirror_mode": {
    "name": "ipython",
    "version": 3
   },
   "file_extension": ".py",
   "mimetype": "text/x-python",
   "name": "python",
   "nbconvert_exporter": "python",
   "pygments_lexer": "ipython3",
   "version": "3.6.6"
  }
 },
 "nbformat": 4,
 "nbformat_minor": 2
}
